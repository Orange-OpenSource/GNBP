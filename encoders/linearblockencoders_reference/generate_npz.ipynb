{
 "cells": [
  {
   "cell_type": "code",
   "execution_count": 3,
   "metadata": {},
   "outputs": [],
   "source": [
    "from alist import save_as_npz\n",
    "\n",
    "save_as_npz(code_name=\"hamming_8_4\", main_save_path=\"./\")"
   ]
  },
  {
   "cell_type": "code",
   "execution_count": null,
   "metadata": {},
   "outputs": [],
   "source": []
  }
 ],
 "metadata": {
  "interpreter": {
   "hash": "17722b7acc1c2365efbabdf6dab8e0e5cd52b450b7aa9c733c2ac675fc8a860c"
  },
  "kernelspec": {
   "display_name": "Python 3.7.3 64-bit ('transformers': conda)",
   "name": "python3"
  },
  "language_info": {
   "codemirror_mode": {
    "name": "ipython",
    "version": 3
   },
   "file_extension": ".py",
   "mimetype": "text/x-python",
   "name": "python",
   "nbconvert_exporter": "python",
   "pygments_lexer": "ipython3",
   "version": "3.7.3"
  },
  "orig_nbformat": 4
 },
 "nbformat": 4,
 "nbformat_minor": 2
}
