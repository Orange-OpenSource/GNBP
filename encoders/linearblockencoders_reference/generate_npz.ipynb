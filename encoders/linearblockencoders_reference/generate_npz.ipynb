{
 "cells": [
  {
   "cell_type": "code",
   "execution_count": 1,
   "metadata": {},
   "outputs": [],
   "source": [
    "from alist import save_as_npz_GJ #,save_as_npz\n",
    "\n",
    "save_as_npz_GJ(code_name=\"CCSDS_LDPC_128_64\", main_save_path=\"./\")\n",
    "save_as_npz_GJ(code_name=\"extended_BCH_128_64\", main_save_path=\"./\")"
   ]
  },
  {
   "cell_type": "code",
   "execution_count": null,
   "metadata": {},
   "outputs": [],
   "source": []
  }
 ],
 "metadata": {
  "kernelspec": {
   "display_name": "Python 3.7.3 ('transformers')",
   "language": "python",
   "name": "python3"
  },
  "language_info": {
   "codemirror_mode": {
    "name": "ipython",
    "version": 3
   },
   "file_extension": ".py",
   "mimetype": "text/x-python",
   "name": "python",
   "nbconvert_exporter": "python",
   "pygments_lexer": "ipython3",
   "version": "3.7.3"
  },
  "orig_nbformat": 4,
  "vscode": {
   "interpreter": {
    "hash": "14b00828b4ecf2c70d55c91800c73dd4c1b8b2fbb3df4ca37934edce87aefcd0"
   }
  }
 },
 "nbformat": 4,
 "nbformat_minor": 2
}
