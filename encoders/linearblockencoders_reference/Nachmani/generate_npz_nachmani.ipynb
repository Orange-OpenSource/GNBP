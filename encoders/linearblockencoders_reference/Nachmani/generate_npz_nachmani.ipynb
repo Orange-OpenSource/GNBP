{
 "cells": [
  {
   "cell_type": "code",
   "execution_count": 10,
   "metadata": {},
   "outputs": [],
   "source": [
    "import numpy as np \n",
    "import os \n",
    "import csv \n",
    "\n",
    "def gf2elim(M):\n",
    "\n",
    "    m,n = M.shape\n",
    "\n",
    "    i=0\n",
    "    j=0\n",
    "\n",
    "    while i < m and j < n:\n",
    "        # find value and index of largest element in remainder of column j\n",
    "        k = np.argmax(M[i:, j]) +i\n",
    "\n",
    "        # swap rows\n",
    "        #M[[k, i]] = M[[i, k]] this doesn't work with numba\n",
    "        temp = np.copy(M[k])\n",
    "        M[k] = M[i]\n",
    "        M[i] = temp\n",
    "\n",
    "\n",
    "        aijn = M[i, j:]\n",
    "\n",
    "        col = np.copy(M[:, j]) #make a copy otherwise M will be directly affected\n",
    "\n",
    "        col[i] = 0 #avoid xoring pivot row with itself\n",
    "\n",
    "        flip = np.outer(col, aijn)\n",
    "\n",
    "        M[:, j:] = (M[:, j:] ^ flip)%2\n",
    "\n",
    "        i += 1\n",
    "        j +=1\n",
    "\n",
    "    return M\n",
    "\n",
    "def open_PC_matrix(csv_path):\n",
    "    print(csv_path)\n",
    "    with open(csv_path) as csvfile:\n",
    "        csv_reader = csv.reader(csvfile, delimiter=\";\")\n",
    "        H = []\n",
    "        for row in csv_reader:\n",
    "            H.append(row)\n",
    "        H = np.array(H, dtype=np.uint8)\n",
    "        return H\n",
    "\n",
    "def generate_code(csv_path):\n",
    "    H_non_systematic = np.array(open_PC_matrix(csv_path),dtype=np.uint8)\n",
    "    \n",
    "    n = np.shape(H_non_systematic)[1]\n",
    "    k = n - np.shape(H_non_systematic)[0]\n",
    "    \n",
    "    H_systematic = np.array(gf2elim(np.copy(H_non_systematic)),dtype=np.float32)\n",
    "\n",
    "    redundancy_H = np.array([H_systematic[i][n-k:] for i in range(n-k)])\n",
    "\n",
    "    H_systematic = np.concatenate((redundancy_H,np.eye(n-k)),axis=-1)\n",
    "    \n",
    "    G = np.concatenate((np.eye(k),redundancy_H.T),axis=-1)\n",
    "    \n",
    "    redundancy_G = np.array([G[i][k:] for i in range(k)])\n",
    "\n",
    "    return(H_non_systematic.astype(np.float32), H_systematic, G, redundancy_H, redundancy_G)\n",
    "\n",
    "def save_as_npz(csv_path, save_path=\"./code\"):\n",
    "    H_non_systematic, H_systematic, G, redundancy_H, redundancy_G = generate_code(csv_path)\n",
    "\n",
    "    npz_path = save_path + \".npz\"\n",
    "    np.savez(npz_path, G=G, H_systematic=H_systematic, H_non_systematic=H_non_systematic, redundancy_H=redundancy_H, redundancy_G=redundancy_G)\n",
    "    "
   ]
  },
  {
   "cell_type": "code",
   "execution_count": null,
   "metadata": {},
   "outputs": [],
   "source": [
    "save_as_npz(csv_path=\"CSV/H_BCH_63_45_cycle_reduced.csv\", save_path=\"./BCH_63_45_cycle_reduced\")"
   ]
  }
 ],
 "metadata": {
  "interpreter": {
   "hash": "17722b7acc1c2365efbabdf6dab8e0e5cd52b450b7aa9c733c2ac675fc8a860c"
  },
  "kernelspec": {
   "display_name": "Python 3.7.3 64-bit ('transformers': conda)",
   "name": "python3"
  },
  "language_info": {
   "codemirror_mode": {
    "name": "ipython",
    "version": 3
   },
   "file_extension": ".py",
   "mimetype": "text/x-python",
   "name": "python",
   "nbconvert_exporter": "python",
   "pygments_lexer": "ipython3",
   "version": "3.7.3"
  },
  "orig_nbformat": 4
 },
 "nbformat": 4,
 "nbformat_minor": 2
}
